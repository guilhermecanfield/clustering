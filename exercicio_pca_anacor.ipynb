{
 "cells": [
  {
   "cell_type": "code",
   "execution_count": 1,
   "metadata": {},
   "outputs": [],
   "source": [
    "import pandas as pd\n",
    "import numpy as np\n",
    "import matplotlib.pyplot as plt\n",
    "import seaborn as sns\n",
    "import scipy.stats as stats\n",
    "import pingouin as pg\n",
    "import plotly.express as px \n",
    "import plotly.io as pio\n",
    "from factor_analyzer import FactorAnalyzer\n",
    "from factor_analyzer.factor_analyzer import calculate_bartlett_sphericity\n",
    "from scipy.stats import chi2_contingency\n",
    "import statsmodels.api as sm\n",
    "import plotly.graph_objects as go"
   ]
  },
  {
   "cell_type": "code",
   "execution_count": 2,
   "metadata": {},
   "outputs": [],
   "source": [
    "pisa = pd.read_csv('data/notas_pisa.csv', delimiter=',')\n",
    "# Fonte: https://pisadataexplorer.oecd.org/ide/idepisa/report.aspx"
   ]
  },
  {
   "cell_type": "code",
   "execution_count": 3,
   "metadata": {},
   "outputs": [
    {
     "name": "stdout",
     "output_type": "stream",
     "text": [
      "<class 'pandas.core.frame.DataFrame'>\n",
      "RangeIndex: 96 entries, 0 to 95\n",
      "Data columns (total 8 columns):\n",
      " #   Column            Non-Null Count  Dtype \n",
      "---  ------            --------------  ----- \n",
      " 0   country           96 non-null     object\n",
      " 1   group             96 non-null     object\n",
      " 2   mathematics_2022  96 non-null     object\n",
      " 3   reading_2022      96 non-null     object\n",
      " 4   science_2022      96 non-null     object\n",
      " 5   mathematics_2018  96 non-null     object\n",
      " 6   reading_2018      96 non-null     object\n",
      " 7   science_2018      96 non-null     object\n",
      "dtypes: object(8)\n",
      "memory usage: 6.1+ KB\n"
     ]
    }
   ],
   "source": [
    "# Informações gerais do dataset\n",
    "pisa.info()"
   ]
  },
  {
   "cell_type": "code",
   "execution_count": 4,
   "metadata": {},
   "outputs": [],
   "source": [
    "# Analise apenas das notas de 2022\n",
    "\n",
    "pisa.drop(columns=['mathematics_2018', 'reading_2018', 'science_2018'], inplace=True)"
   ]
  },
  {
   "cell_type": "code",
   "execution_count": 5,
   "metadata": {},
   "outputs": [],
   "source": [
    "# Ajustando as variáveis de notas para numéricas\n",
    "\n",
    "pisa['mathematics_2022'] = pd.to_numeric(pisa['mathematics_2022'], errors='coerce')\n",
    "pisa['reading_2022'] = pd.to_numeric(pisa['reading_2022'], errors='coerce')\n",
    "pisa['science_2022'] = pd.to_numeric(pisa['science_2022'], errors='coerce')"
   ]
  },
  {
   "cell_type": "code",
   "execution_count": 6,
   "metadata": {},
   "outputs": [],
   "source": [
    "# Há valores faltantes \"nan\", serão removidos\n",
    "\n",
    "pisa.dropna(inplace=True)"
   ]
  },
  {
   "cell_type": "code",
   "execution_count": 7,
   "metadata": {},
   "outputs": [],
   "source": [
    "# Iniciando a análise fatorial PCA\n",
    "\n",
    "pisa_pca = pisa.drop(columns=['country', 'group'])"
   ]
  },
  {
   "cell_type": "code",
   "execution_count": 8,
   "metadata": {},
   "outputs": [
    {
     "data": {
      "text/plain": [
       "<Axes: >"
      ]
     },
     "execution_count": 8,
     "metadata": {},
     "output_type": "execute_result"
    },
    {
     "data": {
      "image/png": "[encoded data removed]",
      "text/plain": [
       "<Figure size 640x480 with 2 Axes>"
      ]
     },
     "metadata": {},
     "output_type": "display_data"
    }
   ],
   "source": [
    "# Análise gráfica das correlações de Pearson\n",
    "\n",
    "matriz_corr = pisa_pca.corr()\n",
    "\n",
    "sns.heatmap(matriz_corr, annot=True, \n",
    "            cmap = plt.cm.Purples,\n",
    "            annot_kws={'size':7})"
   ]
  },
  {
   "cell_type": "code",
   "execution_count": 9,
   "metadata": {},
   "outputs": [
    {
     "data": {
      "text/html": [
       "<div>\n",
       "<style scoped>\n",
       "    .dataframe tbody tr th:only-of-type {\n",
       "        vertical-align: middle;\n",
       "    }\n",
       "\n",
       "    .dataframe tbody tr th {\n",
       "        vertical-align: top;\n",
       "    }\n",
       "\n",
       "    .dataframe thead th {\n",
       "        text-align: right;\n",
       "    }\n",
       "</style>\n",
       "<table border=\"1\" class=\"dataframe\">\n",
       "  <thead>\n",
       "    <tr style=\"text-align: right;\">\n",
       "      <th></th>\n",
       "      <th>mathematics_2022</th>\n",
       "      <th>reading_2022</th>\n",
       "      <th>science_2022</th>\n",
       "    </tr>\n",
       "  </thead>\n",
       "  <tbody>\n",
       "    <tr>\n",
       "      <th>count</th>\n",
       "      <td>81.000000</td>\n",
       "      <td>81.000000</td>\n",
       "      <td>81.000000</td>\n",
       "    </tr>\n",
       "    <tr>\n",
       "      <th>mean</th>\n",
       "      <td>437.628559</td>\n",
       "      <td>435.037917</td>\n",
       "      <td>446.893945</td>\n",
       "    </tr>\n",
       "    <tr>\n",
       "      <th>std</th>\n",
       "      <td>58.219370</td>\n",
       "      <td>56.104751</td>\n",
       "      <td>55.724807</td>\n",
       "    </tr>\n",
       "    <tr>\n",
       "      <th>min</th>\n",
       "      <td>336.396041</td>\n",
       "      <td>328.842780</td>\n",
       "      <td>347.104162</td>\n",
       "    </tr>\n",
       "    <tr>\n",
       "      <th>25%</th>\n",
       "      <td>388.781607</td>\n",
       "      <td>386.284748</td>\n",
       "      <td>403.130242</td>\n",
       "    </tr>\n",
       "    <tr>\n",
       "      <th>50%</th>\n",
       "      <td>440.845309</td>\n",
       "      <td>438.440625</td>\n",
       "      <td>446.967114</td>\n",
       "    </tr>\n",
       "    <tr>\n",
       "      <th>75%</th>\n",
       "      <td>483.159455</td>\n",
       "      <td>480.405847</td>\n",
       "      <td>493.549319</td>\n",
       "    </tr>\n",
       "    <tr>\n",
       "      <th>max</th>\n",
       "      <td>574.663820</td>\n",
       "      <td>542.553322</td>\n",
       "      <td>561.433275</td>\n",
       "    </tr>\n",
       "  </tbody>\n",
       "</table>\n",
       "</div>"
      ],
      "text/plain": [
       "       mathematics_2022  reading_2022  science_2022\n",
       "count         81.000000     81.000000     81.000000\n",
       "mean         437.628559    435.037917    446.893945\n",
       "std           58.219370     56.104751     55.724807\n",
       "min          336.396041    328.842780    347.104162\n",
       "25%          388.781607    386.284748    403.130242\n",
       "50%          440.845309    438.440625    446.967114\n",
       "75%          483.159455    480.405847    493.549319\n",
       "max          574.663820    542.553322    561.433275"
      ]
     },
     "execution_count": 9,
     "metadata": {},
     "output_type": "execute_result"
    }
   ],
   "source": [
    "# Estatísticas descritivas\n",
    "\n",
    "pisa_pca.describe()"
   ]
  },
  {
   "cell_type": "code",
   "execution_count": 10,
   "metadata": {},
   "outputs": [
    {
     "name": "stdout",
     "output_type": "stream",
     "text": [
      "Qui² Bartlett: 508.46\n",
      "p-valor: 0.0\n"
     ]
    }
   ],
   "source": [
    "# Teste de Esfericidade de Bartlett\n",
    "\n",
    "bartlett, p_value = calculate_bartlett_sphericity(pisa_pca)\n",
    "print(f'Qui² Bartlett: {round(bartlett, 2)}')\n",
    "print(f'p-valor: {round(p_value, 4)}')"
   ]
  },
  {
   "cell_type": "code",
   "execution_count": 11,
   "metadata": {},
   "outputs": [],
   "source": [
    "# Definindo a PCA (procedimento inicial com todos os fatores possíveis)\n",
    "\n",
    "fa = FactorAnalyzer(n_factors=3, method='principal', rotation=None).fit(pisa_pca)"
   ]
  },
  {
   "cell_type": "code",
   "execution_count": 12,
   "metadata": {},
   "outputs": [
    {
     "name": "stdout",
     "output_type": "stream",
     "text": [
      "[2.92687872 0.06529156 0.00782972]\n"
     ]
    }
   ],
   "source": [
    "# Obtendo todos os possíveis autovalores\n",
    "\n",
    "autovalores = fa.get_eigenvalues()[0]\n",
    "print(autovalores)"
   ]
  },
  {
   "cell_type": "markdown",
   "metadata": {},
   "source": [
    "*Pode-se observar que quase toda variância ocorre já no primeiro fator, justificando-se assim a seleção de apenas um fator para a análise*"
   ]
  },
  {
   "cell_type": "code",
   "execution_count": 13,
   "metadata": {},
   "outputs": [],
   "source": [
    "# Redefinindo a PCA (critério da raiz latente)\n",
    "\n",
    "# Escolhendo n_factors com base em autovalores > 1\n",
    "\n",
    "fa = FactorAnalyzer(n_factors=1, method='principal', rotation=None).fit(pisa_pca)"
   ]
  },
  {
   "cell_type": "code",
   "execution_count": 14,
   "metadata": {},
   "outputs": [
    {
     "name": "stdout",
     "output_type": "stream",
     "text": [
      "         Autovalor  Variância  Variância Acumulada\n",
      "Fator 1   2.926879   0.975626             0.975626\n"
     ]
    }
   ],
   "source": [
    "# Eigenvalues, variâncias e variâncias acumuladas\n",
    "\n",
    "autovalores_fatores = fa.get_factor_variance()\n",
    "\n",
    "tabela_eigen = pd.DataFrame(autovalores_fatores)\n",
    "tabela_eigen.columns = [f\"Fator {i+1}\" for i, v in enumerate(tabela_eigen.columns)]\n",
    "tabela_eigen.index = ['Autovalor','Variância', 'Variância Acumulada']\n",
    "tabela_eigen = tabela_eigen.T\n",
    "\n",
    "print(tabela_eigen)"
   ]
  },
  {
   "cell_type": "code",
   "execution_count": 15,
   "metadata": {},
   "outputs": [
    {
     "name": "stdout",
     "output_type": "stream",
     "text": [
      "                   Fator 1\n",
      "mathematics_2022  0.982323\n",
      "reading_2022      0.983425\n",
      "science_2022      0.997394\n"
     ]
    }
   ],
   "source": [
    "# Determinando as cargas fatoriais\n",
    "\n",
    "cargas_fatoriais = fa.loadings_\n",
    "\n",
    "tabela_cargas = pd.DataFrame(cargas_fatoriais)\n",
    "tabela_cargas.columns = [f\"Fator {i+1}\" for i, v in enumerate(tabela_cargas.columns)]\n",
    "tabela_cargas.index = pisa_pca.columns\n",
    "\n",
    "print(tabela_cargas)"
   ]
  },
  {
   "cell_type": "markdown",
   "metadata": {},
   "source": [
    "*Pode-se observar pela análise da ``Carga Fatorial`` que a correlação entre o fator extraído e as variáveis originais é extremamente alto, mais um fator para corroborar com a alta representatividade apenas deste fator.*"
   ]
  },
  {
   "cell_type": "code",
   "execution_count": 16,
   "metadata": {},
   "outputs": [
    {
     "name": "stdout",
     "output_type": "stream",
     "text": [
      "                  Comunalidades\n",
      "mathematics_2022       0.964959\n",
      "reading_2022           0.967125\n",
      "science_2022           0.994794\n"
     ]
    }
   ],
   "source": [
    "# Determinando as comunalidades\n",
    "\n",
    "comunalidades = fa.get_communalities()\n",
    "\n",
    "tabela_comunalidades = pd.DataFrame(comunalidades)\n",
    "tabela_comunalidades.columns = ['Comunalidades']\n",
    "tabela_comunalidades.index = pisa_pca.columns\n",
    "\n",
    "print(tabela_comunalidades)"
   ]
  },
  {
   "cell_type": "markdown",
   "metadata": {},
   "source": [
    "*A análise das comunalidades indica que a perda de variância em da uma das variáveis foi também, extremamente baixa*"
   ]
  },
  {
   "cell_type": "code",
   "execution_count": 17,
   "metadata": {},
   "outputs": [],
   "source": [
    "# Extração do fator para as observações do banco de dados\n",
    "\n",
    "fator = pd.DataFrame(fa.transform(pisa_pca))\n",
    "fator.columns = ['fator_2022']"
   ]
  },
  {
   "cell_type": "code",
   "execution_count": 18,
   "metadata": {},
   "outputs": [],
   "source": [
    "# Adicionando os fatores ao banco de dados\n",
    "\n",
    "pisa = pd.concat([pisa.reset_index(drop=True), fator], axis=1)\n",
    "\n",
    "# Organizando o dataset por meio do fator\n",
    "\n",
    "pisa.sort_values('fator_2022', ascending=False, inplace=True)\n",
    "pisa.reset_index(drop=True, inplace=True)"
   ]
  },
  {
   "cell_type": "code",
   "execution_count": 19,
   "metadata": {},
   "outputs": [
    {
     "data": {
      "text/html": [
       "<div>\n",
       "<style scoped>\n",
       "    .dataframe tbody tr th:only-of-type {\n",
       "        vertical-align: middle;\n",
       "    }\n",
       "\n",
       "    .dataframe tbody tr th {\n",
       "        vertical-align: top;\n",
       "    }\n",
       "\n",
       "    .dataframe thead th {\n",
       "        text-align: right;\n",
       "    }\n",
       "</style>\n",
       "<table border=\"1\" class=\"dataframe\">\n",
       "  <thead>\n",
       "    <tr style=\"text-align: right;\">\n",
       "      <th></th>\n",
       "      <th>country</th>\n",
       "      <th>group</th>\n",
       "      <th>mathematics_2022</th>\n",
       "      <th>reading_2022</th>\n",
       "      <th>science_2022</th>\n",
       "      <th>fator_2022</th>\n",
       "    </tr>\n",
       "  </thead>\n",
       "  <tbody>\n",
       "    <tr>\n",
       "      <th>59</th>\n",
       "      <td>Brazil</td>\n",
       "      <td>PARTNERS</td>\n",
       "      <td>378.691367</td>\n",
       "      <td>410.356979</td>\n",
       "      <td>403.001214</td>\n",
       "      <td>-0.760693</td>\n",
       "    </tr>\n",
       "  </tbody>\n",
       "</table>\n",
       "</div>"
      ],
      "text/plain": [
       "   country     group  mathematics_2022  reading_2022  science_2022  fator_2022\n",
       "59  Brazil  PARTNERS        378.691367    410.356979    403.001214   -0.760693"
      ]
     },
     "execution_count": 19,
     "metadata": {},
     "output_type": "execute_result"
    }
   ],
   "source": [
    "pisa[pisa.country == 'Brazil']"
   ]
  },
  {
   "cell_type": "code",
   "execution_count": 20,
   "metadata": {},
   "outputs": [
    {
     "name": "stdout",
     "output_type": "stream",
     "text": [
      "                   Fator 1\n",
      "mathematics_2022  0.335621\n",
      "reading_2022      0.335998\n",
      "science_2022      0.340770\n"
     ]
    }
   ],
   "source": [
    "# Identificando os scores fatoriais\n",
    "\n",
    "scores = fa.weights_\n",
    "\n",
    "tabela_scores = pd.DataFrame(scores)\n",
    "tabela_scores.columns = [f\"Fator {i+1}\" for i, v in enumerate(tabela_scores.columns)]\n",
    "tabela_scores.index = pisa_pca.columns\n",
    "\n",
    "print(tabela_scores)"
   ]
  },
  {
   "cell_type": "markdown",
   "metadata": {},
   "source": [
    "### Integração com a Anacor"
   ]
  },
  {
   "cell_type": "code",
   "execution_count": 21,
   "metadata": {},
   "outputs": [],
   "source": [
    "# Vamos categorizar o fator\n",
    "\n",
    "# Criando 4 grupos\n",
    "pisa['categoria'] = pd.qcut(pisa['fator_2022'], 4, labels=list(['grupo_1', 'grupo_2', 'grupo_3', 'grupo_4']))"
   ]
  },
  {
   "cell_type": "code",
   "execution_count": 22,
   "metadata": {},
   "outputs": [
    {
     "name": "stdout",
     "output_type": "stream",
     "text": [
      "group      OECD  PARTNERS\n",
      "categoria                \n",
      "grupo_1       0        21\n",
      "grupo_2       5        15\n",
      "grupo_3      16         4\n",
      "grupo_4      16         4\n"
     ]
    }
   ],
   "source": [
    "# Há associação com o grupo dos países?\n",
    "\n",
    "# Criando a tabela de contingência\n",
    "\n",
    "tabela = pd.crosstab(pisa['categoria'], pisa['group'])\n",
    "print(tabela)"
   ]
  },
  {
   "cell_type": "code",
   "execution_count": 23,
   "metadata": {},
   "outputs": [
    {
     "name": "stdout",
     "output_type": "stream",
     "text": [
      "estatística qui²: 40.09\n",
      "p-valor da estatística: 0.0\n",
      "graus de liberdade: 3\n"
     ]
    }
   ],
   "source": [
    "# Analisando a significância estatística da associação (teste qui²)\n",
    "\n",
    "teste_qui2 = chi2_contingency(tabela)\n",
    "\n",
    "print(f\"estatística qui²: {round(teste_qui2[0], 2)}\")\n",
    "print(f\"p-valor da estatística: {round(teste_qui2[1], 4)}\")\n",
    "print(f\"graus de liberdade: {teste_qui2[2]}\")"
   ]
  },
  {
   "cell_type": "code",
   "execution_count": 24,
   "metadata": {},
   "outputs": [
    {
     "name": "stdout",
     "output_type": "stream",
     "text": [
      "group          OECD  PARTNERS\n",
      "categoria                    \n",
      "grupo_1   -4.736823  4.736823\n",
      "grupo_2   -2.170425  2.170425\n",
      "grupo_3    3.510703 -3.510703\n",
      "grupo_4    3.510703 -3.510703\n"
     ]
    }
   ],
   "source": [
    "# Análise dos resíduos provenientes da tabela de contingência\n",
    "\n",
    "# Parametrizando a função\n",
    "tab_cont = sm.stats.Table(tabela)\n",
    "\n",
    "# Resíduos padronizados ajustados\n",
    "print(tab_cont.standardized_resids)"
   ]
  },
  {
   "cell_type": "code",
   "execution_count": 25,
   "metadata": {},
   "outputs": [
    {
     "data": {
      "application/vnd.plotly.v1+json": {
       "config": {
        "plotlyServerURL": "https://plot.ly"
       },
       "data": [
        {
         "colorscale": [
          [
           0,
           "#FAF9F6"
          ],
          [
           0.001034126163391934,
           "#FAF9F6"
          ],
          [
           0.002068252326783868,
           "#FAF9F6"
          ],
          [
           0.0031023784901758012,
           "#FAF9F6"
          ],
          [
           0.004136504653567736,
           "#FAF9F6"
          ],
          [
           0.005170630816959669,
           "#FAF9F6"
          ],
          [
           0.0062047569803516025,
           "#FAF9F6"
          ],
          [
           0.007238883143743537,
           "#FAF9F6"
          ],
          [
           0.008273009307135471,
           "#FAF9F6"
          ],
          [
           0.009307135470527405,
           "#FAF9F6"
          ],
          [
           0.010341261633919338,
           "#FAF9F6"
          ],
          [
           0.011375387797311272,
           "#FAF9F6"
          ],
          [
           0.012409513960703205,
           "#FAF9F6"
          ],
          [
           0.01344364012409514,
           "#FAF9F6"
          ],
          [
           0.014477766287487074,
           "#FAF9F6"
          ],
          [
           0.015511892450879007,
           "#FAF9F6"
          ],
          [
           0.016546018614270942,
           "#FAF9F6"
          ],
          [
           0.017580144777662874,
           "#FAF9F6"
          ],
          [
           0.01861427094105481,
           "#FAF9F6"
          ],
          [
           0.01964839710444674,
           "#FAF9F6"
          ],
          [
           0.020682523267838676,
           "#FAF9F6"
          ],
          [
           0.02171664943123061,
           "#FAF9F6"
          ],
          [
           0.022750775594622543,
           "#FAF9F6"
          ],
          [
           0.023784901758014478,
           "#FAF9F6"
          ],
          [
           0.02481902792140641,
           "#FAF9F6"
          ],
          [
           0.025853154084798345,
           "#FAF9F6"
          ],
          [
           0.02688728024819028,
           "#FAF9F6"
          ],
          [
           0.027921406411582212,
           "#FAF9F6"
          ],
          [
           0.028955532574974147,
           "#FAF9F6"
          ],
          [
           0.02998965873836608,
           "#FAF9F6"
          ],
          [
           0.031023784901758014,
           "#FAF9F6"
          ],
          [
           0.03205791106514995,
           "#FAF9F6"
          ],
          [
           0.033092037228541885,
           "#FAF9F6"
          ],
          [
           0.03412616339193381,
           "#FAF9F6"
          ],
          [
           0.03516028955532575,
           "#FAF9F6"
          ],
          [
           0.03619441571871768,
           "#FAF9F6"
          ],
          [
           0.03722854188210962,
           "#FAF9F6"
          ],
          [
           0.038262668045501554,
           "#FAF9F6"
          ],
          [
           0.03929679420889348,
           "#FAF9F6"
          ],
          [
           0.04033092037228542,
           "#FAF9F6"
          ],
          [
           0.04136504653567735,
           "#FAF9F6"
          ],
          [
           0.04239917269906929,
           "#FAF9F6"
          ],
          [
           0.04343329886246122,
           "#FAF9F6"
          ],
          [
           0.04446742502585315,
           "#FAF9F6"
          ],
          [
           0.045501551189245086,
           "#FAF9F6"
          ],
          [
           0.04653567735263702,
           "#FAF9F6"
          ],
          [
           0.047569803516028956,
           "#FAF9F6"
          ],
          [
           0.04860392967942089,
           "#FAF9F6"
          ],
          [
           0.04963805584281282,
           "#FAF9F6"
          ],
          [
           0.050672182006204755,
           "#FAF9F6"
          ],
          [
           0.05170630816959669,
           "#FAF9F6"
          ],
          [
           0.052740434332988625,
           "#FAF9F6"
          ],
          [
           0.05377456049638056,
           "#FAF9F6"
          ],
          [
           0.05480868665977249,
           "#FAF9F6"
          ],
          [
           0.055842812823164424,
           "#FAF9F6"
          ],
          [
           0.05687693898655636,
           "#FAF9F6"
          ],
          [
           0.057911065149948295,
           "#FAF9F6"
          ],
          [
           0.05894519131334023,
           "#FAF9F6"
          ],
          [
           0.05997931747673216,
           "#FAF9F6"
          ],
          [
           0.06101344364012409,
           "#FAF9F6"
          ],
          [
           0.06204756980351603,
           "#FAF9F6"
          ],
          [
           0.06308169596690796,
           "#FAF9F6"
          ],
          [
           0.0641158221302999,
           "#FAF9F6"
          ],
          [
           0.06514994829369183,
           "#FAF9F6"
          ],
          [
           0.06618407445708377,
           "#FAF9F6"
          ],
          [
           0.0672182006204757,
           "#FAF9F6"
          ],
          [
           0.06825232678386763,
           "#FAF9F6"
          ],
          [
           0.06928645294725956,
           "#FAF9F6"
          ],
          [
           0.0703205791106515,
           "#FAF9F6"
          ],
          [
           0.07135470527404343,
           "#FAF9F6"
          ],
          [
           0.07238883143743537,
           "#FAF9F6"
          ],
          [
           0.0734229576008273,
           "#FAF9F6"
          ],
          [
           0.07445708376421924,
           "#FAF9F6"
          ],
          [
           0.07549120992761117,
           "#FAF9F6"
          ],
          [
           0.07652533609100311,
           "#FAF9F6"
          ],
          [
           0.07755946225439504,
           "#FAF9F6"
          ],
          [
           0.07859358841778696,
           "#FAF9F6"
          ],
          [
           0.0796277145811789,
           "#FAF9F6"
          ],
          [
           0.08066184074457083,
           "#FAF9F6"
          ],
          [
           0.08169596690796277,
           "#FAF9F6"
          ],
          [
           0.0827300930713547,
           "#FAF9F6"
          ],
          [
           0.08376421923474664,
           "#FAF9F6"
          ],
          [
           0.08479834539813857,
           "#FAF9F6"
          ],
          [
           0.08583247156153051,
           "#FAF9F6"
          ],
          [
           0.08686659772492245,
           "#FAF9F6"
          ],
          [
           0.08790072388831438,
           "#FAF9F6"
          ],
          [
           0.0889348500517063,
           "#FAF9F6"
          ],
          [
           0.08996897621509824,
           "#FAF9F6"
          ],
          [
           0.09100310237849017,
           "#FAF9F6"
          ],
          [
           0.09203722854188211,
           "#FAF9F6"
          ],
          [
           0.09307135470527404,
           "#FAF9F6"
          ],
          [
           0.09410548086866598,
           "#FAF9F6"
          ],
          [
           0.09513960703205791,
           "#FAF9F6"
          ],
          [
           0.09617373319544985,
           "#FAF9F6"
          ],
          [
           0.09720785935884178,
           "#FAF9F6"
          ],
          [
           0.09824198552223372,
           "#FAF9F6"
          ],
          [
           0.09927611168562564,
           "#FAF9F6"
          ],
          [
           0.10031023784901758,
           "#FAF9F6"
          ],
          [
           0.10134436401240951,
           "#FAF9F6"
          ],
          [
           0.10237849017580145,
           "#FAF9F6"
          ],
          [
           0.10341261633919338,
           "#FAF9F6"
          ],
          [
           0.10444674250258532,
           "#FAF9F6"
          ],
          [
           0.10548086866597725,
           "#FAF9F6"
          ],
          [
           0.10651499482936919,
           "#FAF9F6"
          ],
          [
           0.10754912099276112,
           "#FAF9F6"
          ],
          [
           0.10858324715615306,
           "#FAF9F6"
          ],
          [
           0.10961737331954498,
           "#FAF9F6"
          ],
          [
           0.11065149948293691,
           "#FAF9F6"
          ],
          [
           0.11168562564632885,
           "#FAF9F6"
          ],
          [
           0.11271975180972078,
           "#FAF9F6"
          ],
          [
           0.11375387797311272,
           "#FAF9F6"
          ],
          [
           0.11478800413650465,
           "#FAF9F6"
          ],
          [
           0.11582213029989659,
           "#FAF9F6"
          ],
          [
           0.11685625646328852,
           "#FAF9F6"
          ],
          [
           0.11789038262668046,
           "#FAF9F6"
          ],
          [
           0.1189245087900724,
           "#FAF9F6"
          ],
          [
           0.11995863495346432,
           "#FAF9F6"
          ],
          [
           0.12099276111685625,
           "#FAF9F6"
          ],
          [
           0.12202688728024819,
           "#FAF9F6"
          ],
          [
           0.12306101344364012,
           "#FAF9F6"
          ],
          [
           0.12409513960703206,
           "#FAF9F6"
          ],
          [
           0.125129265770424,
           "#FAF9F6"
          ],
          [
           0.12616339193381593,
           "#FAF9F6"
          ],
          [
           0.12719751809720786,
           "#FAF9F6"
          ],
          [
           0.1282316442605998,
           "#FAF9F6"
          ],
          [
           0.12926577042399173,
           "#FAF9F6"
          ],
          [
           0.13029989658738367,
           "#FAF9F6"
          ],
          [
           0.1313340227507756,
           "#FAF9F6"
          ],
          [
           0.13236814891416754,
           "#FAF9F6"
          ],
          [
           0.13340227507755947,
           "#FAF9F6"
          ],
          [
           0.1344364012409514,
           "#FAF9F6"
          ],
          [
           0.13547052740434332,
           "#FAF9F6"
          ],
          [
           0.13650465356773525,
           "#FAF9F6"
          ],
          [
           0.1375387797311272,
           "#FAF9F6"
          ],
          [
           0.13857290589451912,
           "#FAF9F6"
          ],
          [
           0.13960703205791106,
           "#FAF9F6"
          ],
          [
           0.140641158221303,
           "#FAF9F6"
          ],
          [
           0.14167528438469493,
           "#FAF9F6"
          ],
          [
           0.14270941054808686,
           "#FAF9F6"
          ],
          [
           0.1437435367114788,
           "#FAF9F6"
          ],
          [
           0.14477766287487073,
           "#FAF9F6"
          ],
          [
           0.14581178903826267,
           "#FAF9F6"
          ],
          [
           0.1468459152016546,
           "#FAF9F6"
          ],
          [
           0.14788004136504654,
           "#FAF9F6"
          ],
          [
           0.14891416752843847,
           "#FAF9F6"
          ],
          [
           0.1499482936918304,
           "#FAF9F6"
          ],
          [
           0.15098241985522234,
           "#FAF9F6"
          ],
          [
           0.15201654601861428,
           "#FAF9F6"
          ],
          [
           0.15305067218200621,
           "#FAF9F6"
          ],
          [
           0.15408479834539815,
           "#FAF9F6"
          ],
          [
           0.15511892450879008,
           "#FAF9F6"
          ],
          [
           0.15615305067218202,
           "#FAF9F6"
          ],
          [
           0.15718717683557393,
           "#FAF9F6"
          ],
          [
           0.15822130299896586,
           "#FAF9F6"
          ],
          [
           0.1592554291623578,
           "#FAF9F6"
          ],
          [
           0.16028955532574973,
           "#FAF9F6"
          ],
          [
           0.16132368148914167,
           "#FAF9F6"
          ],
          [
           0.1623578076525336,
           "#FAF9F6"
          ],
          [
           0.16339193381592554,
           "#FAF9F6"
          ],
          [
           0.16442605997931747,
           "#FAF9F6"
          ],
          [
           0.1654601861427094,
           "#FAF9F6"
          ],
          [
           0.16649431230610134,
           "#FAF9F6"
          ],
          [
           0.16752843846949328,
           "#FAF9F6"
          ],
          [
           0.16856256463288521,
           "#FAF9F6"
          ],
          [
           0.16959669079627715,
           "#FAF9F6"
          ],
          [
           0.17063081695966908,
           "#FAF9F6"
          ],
          [
           0.17166494312306102,
           "#FAF9F6"
          ],
          [
           0.17269906928645296,
           "#FAF9F6"
          ],
          [
           0.1737331954498449,
           "#FAF9F6"
          ],
          [
           0.17476732161323683,
           "#FAF9F6"
          ],
          [
           0.17580144777662876,
           "#FAF9F6"
          ],
          [
           0.1768355739400207,
           "#FAF9F6"
          ],
          [
           0.1778697001034126,
           "#FAF9F6"
          ],
          [
           0.17890382626680454,
           "#FAF9F6"
          ],
          [
           0.17993795243019647,
           "#FAF9F6"
          ],
          [
           0.1809720785935884,
           "#FAF9F6"
          ],
          [
           0.18200620475698034,
           "#FAF9F6"
          ],
          [
           0.18304033092037228,
           "#FAF9F6"
          ],
          [
           0.18407445708376421,
           "#FAF9F6"
          ],
          [
           0.18510858324715615,
           "#FAF9F6"
          ],
          [
           0.18614270941054809,
           "#FAF9F6"
          ],
          [
           0.18717683557394002,
           "#FAF9F6"
          ],
          [
           0.18821096173733196,
           "#FAF9F6"
          ],
          [
           0.1892450879007239,
           "#FAF9F6"
          ],
          [
           0.19027921406411583,
           "#FAF9F6"
          ],
          [
           0.19131334022750776,
           "#FAF9F6"
          ],
          [
           0.1923474663908997,
           "#FAF9F6"
          ],
          [
           0.19338159255429163,
           "#FAF9F6"
          ],
          [
           0.19441571871768357,
           "#FAF9F6"
          ],
          [
           0.1954498448810755,
           "#FAF9F6"
          ],
          [
           0.19648397104446744,
           "#FAF9F6"
          ],
          [
           0.19751809720785937,
           "#FAF9F6"
          ],
          [
           0.19855222337125128,
           "#FAF9F6"
          ],
          [
           0.19958634953464321,
           "#FAF9F6"
          ],
          [
           0.20062047569803515,
           "#FAF9F6"
          ],
          [
           0.20165460186142709,
           "#FAF9F6"
          ],
          [
           0.20268872802481902,
           "#FAF9F6"
          ],
          [
           0.20372285418821096,
           "#FAF9F6"
          ],
          [
           0.2047569803516029,
           "#FAF9F6"
          ],
          [
           0.20579110651499483,
           "#FAF9F6"
          ],
          [
           0.20682523267838676,
           "#FAF9F6"
          ],
          [
           0.2078593588417787,
           "#FAF9F6"
          ],
          [
           0.20889348500517063,
           "#FAF9F6"
          ],
          [
           0.20992761116856257,
           "#FAF9F6"
          ],
          [
           0.2109617373319545,
           "#FAF9F6"
          ],
          [
           0.21199586349534644,
           "#FAF9F6"
          ],
          [
           0.21302998965873837,
           "#FAF9F6"
          ],
          [
           0.2140641158221303,
           "#FAF9F6"
          ],
          [
           0.21509824198552224,
           "#FAF9F6"
          ],
          [
           0.21613236814891418,
           "#FAF9F6"
          ],
          [
           0.2171664943123061,
           "#FAF9F6"
          ],
          [
           0.21820062047569805,
           "#FAF9F6"
          ],
          [
           0.21923474663908996,
           "#FAF9F6"
          ],
          [
           0.2202688728024819,
           "#FAF9F6"
          ],
          [
           0.22130299896587383,
           "#FAF9F6"
          ],
          [
           0.22233712512926576,
           "#FAF9F6"
          ],
          [
           0.2233712512926577,
           "#FAF9F6"
          ],
          [
           0.22440537745604963,
           "#FAF9F6"
          ],
          [
           0.22543950361944157,
           "#FAF9F6"
          ],
          [
           0.2264736297828335,
           "#FAF9F6"
          ],
          [
           0.22750775594622544,
           "#FAF9F6"
          ],
          [
           0.22854188210961737,
           "#FAF9F6"
          ],
          [
           0.2295760082730093,
           "#FAF9F6"
          ],
          [
           0.23061013443640124,
           "#FAF9F6"
          ],
          [
           0.23164426059979318,
           "#FAF9F6"
          ],
          [
           0.2326783867631851,
           "#FAF9F6"
          ],
          [
           0.23371251292657705,
           "#FAF9F6"
          ],
          [
           0.23474663908996898,
           "#FAF9F6"
          ],
          [
           0.23578076525336092,
           "#FAF9F6"
          ],
          [
           0.23681489141675285,
           "#FAF9F6"
          ],
          [
           0.2378490175801448,
           "#FAF9F6"
          ],
          [
           0.23888314374353672,
           "#FAF9F6"
          ],
          [
           0.23991726990692863,
           "#FAF9F6"
          ],
          [
           0.24095139607032057,
           "#FAF9F6"
          ],
          [
           0.2419855222337125,
           "#FAF9F6"
          ],
          [
           0.24301964839710444,
           "#FAF9F6"
          ],
          [
           0.24405377456049637,
           "#FAF9F6"
          ],
          [
           0.2450879007238883,
           "#FAF9F6"
          ],
          [
           0.24612202688728024,
           "#FAF9F6"
          ],
          [
           0.24715615305067218,
           "#FAF9F6"
          ],
          [
           0.2481902792140641,
           "#FAF9F6"
          ],
          [
           0.24922440537745605,
           "#FAF9F6"
          ],
          [
           0.250258531540848,
           "#FAF9F6"
          ],
          [
           0.2512926577042399,
           "#FAF9F6"
          ],
          [
           0.25232678386763185,
           "#FAF9F6"
          ],
          [
           0.2533609100310238,
           "#FAF9F6"
          ],
          [
           0.2543950361944157,
           "#FAF9F6"
          ],
          [
           0.25542916235780766,
           "#FAF9F6"
          ],
          [
           0.2564632885211996,
           "#FAF9F6"
          ],
          [
           0.25749741468459153,
           "#FAF9F6"
          ],
          [
           0.25853154084798347,
           "#FAF9F6"
          ],
          [
           0.2595656670113754,
           "#FAF9F6"
          ],
          [
           0.26059979317476734,
           "#FAF9F6"
          ],
          [
           0.26163391933815927,
           "#FAF9F6"
          ],
          [
           0.2626680455015512,
           "#FAF9F6"
          ],
          [
           0.26370217166494314,
           "#FAF9F6"
          ],
          [
           0.2647362978283351,
           "#FAF9F6"
          ],
          [
           0.265770423991727,
           "#FAF9F6"
          ],
          [
           0.26680455015511895,
           "#FAF9F6"
          ],
          [
           0.2678386763185109,
           "#FAF9F6"
          ],
          [
           0.2688728024819028,
           "#FAF9F6"
          ],
          [
           0.26990692864529475,
           "#FAF9F6"
          ],
          [
           0.27094105480868663,
           "#FAF9F6"
          ],
          [
           0.27197518097207857,
           "#FAF9F6"
          ],
          [
           0.2730093071354705,
           "#FAF9F6"
          ],
          [
           0.27404343329886244,
           "#FAF9F6"
          ],
          [
           0.2750775594622544,
           "#FAF9F6"
          ],
          [
           0.2761116856256463,
           "#FAF9F6"
          ],
          [
           0.27714581178903824,
           "#FAF9F6"
          ],
          [
           0.2781799379524302,
           "#FAF9F6"
          ],
          [
           0.2792140641158221,
           "#FAF9F6"
          ],
          [
           0.28024819027921405,
           "#FAF9F6"
          ],
          [
           0.281282316442606,
           "#FAF9F6"
          ],
          [
           0.2823164426059979,
           "#FAF9F6"
          ],
          [
           0.28335056876938985,
           "#FAF9F6"
          ],
          [
           0.2843846949327818,
           "#FAF9F6"
          ],
          [
           0.2854188210961737,
           "#FAF9F6"
          ],
          [
           0.28645294725956566,
           "#FAF9F6"
          ],
          [
           0.2874870734229576,
           "#FAF9F6"
          ],
          [
           0.28852119958634953,
           "#FAF9F6"
          ],
          [
           0.28955532574974147,
           "#FAF9F6"
          ],
          [
           0.2905894519131334,
           "#FAF9F6"
          ],
          [
           0.29162357807652534,
           "#FAF9F6"
          ],
          [
           0.29265770423991727,
           "#FAF9F6"
          ],
          [
           0.2936918304033092,
           "#FAF9F6"
          ],
          [
           0.29472595656670114,
           "#FAF9F6"
          ],
          [
           0.2957600827300931,
           "#FAF9F6"
          ],
          [
           0.296794208893485,
           "#FAF9F6"
          ],
          [
           0.29782833505687695,
           "#FAF9F6"
          ],
          [
           0.2988624612202689,
           "#FAF9F6"
          ],
          [
           0.2998965873836608,
           "#FAF9F6"
          ],
          [
           0.30093071354705275,
           "#FAF9F6"
          ],
          [
           0.3019648397104447,
           "#FAF9F6"
          ],
          [
           0.3029989658738366,
           "#FAF9F6"
          ],
          [
           0.30403309203722856,
           "#FAF9F6"
          ],
          [
           0.3050672182006205,
           "#FAF9F6"
          ],
          [
           0.30610134436401243,
           "#FAF9F6"
          ],
          [
           0.30713547052740436,
           "#FAF9F6"
          ],
          [
           0.3081695966907963,
           "#FAF9F6"
          ],
          [
           0.30920372285418823,
           "#FAF9F6"
          ],
          [
           0.31023784901758017,
           "#FAF9F6"
          ],
          [
           0.3112719751809721,
           "#FAF9F6"
          ],
          [
           0.31230610134436404,
           "#FAF9F6"
          ],
          [
           0.3133402275077559,
           "#FAF9F6"
          ],
          [
           0.31437435367114785,
           "#FAF9F6"
          ],
          [
           0.3154084798345398,
           "#FAF9F6"
          ],
          [
           0.3164426059979317,
           "#FAF9F6"
          ],
          [
           0.31747673216132366,
           "#FAF9F6"
          ],
          [
           0.3185108583247156,
           "#FAF9F6"
          ],
          [
           0.31954498448810753,
           "#FAF9F6"
          ],
          [
           0.32057911065149947,
           "#FAF9F6"
          ],
          [
           0.3216132368148914,
           "#FAF9F6"
          ],
          [
           0.32264736297828334,
           "#FAF9F6"
          ],
          [
           0.32368148914167527,
           "#FAF9F6"
          ],
          [
           0.3247156153050672,
           "#FAF9F6"
          ],
          [
           0.32574974146845914,
           "#FAF9F6"
          ],
          [
           0.3267838676318511,
           "#FAF9F6"
          ],
          [
           0.327817993795243,
           "#FAF9F6"
          ],
          [
           0.32885211995863495,
           "#FAF9F6"
          ],
          [
           0.3298862461220269,
           "#FAF9F6"
          ],
          [
           0.3309203722854188,
           "#FAF9F6"
          ],
          [
           0.33195449844881075,
           "#FAF9F6"
          ],
          [
           0.3329886246122027,
           "#FAF9F6"
          ],
          [
           0.3340227507755946,
           "#FAF9F6"
          ],
          [
           0.33505687693898656,
           "#FAF9F6"
          ],
          [
           0.3360910031023785,
           "#FAF9F6"
          ],
          [
           0.33712512926577043,
           "#FAF9F6"
          ],
          [
           0.33815925542916236,
           "#FAF9F6"
          ],
          [
           0.3391933815925543,
           "#FAF9F6"
          ],
          [
           0.34022750775594623,
           "#FAF9F6"
          ],
          [
           0.34126163391933817,
           "#FAF9F6"
          ],
          [
           0.3422957600827301,
           "#FAF9F6"
          ],
          [
           0.34332988624612204,
           "#FAF9F6"
          ],
          [
           0.344364012409514,
           "#FAF9F6"
          ],
          [
           0.3453981385729059,
           "#FAF9F6"
          ],
          [
           0.34643226473629785,
           "#FAF9F6"
          ],
          [
           0.3474663908996898,
           "#FAF9F6"
          ],
          [
           0.3485005170630817,
           "#FAF9F6"
          ],
          [
           0.34953464322647365,
           "#FAF9F6"
          ],
          [
           0.3505687693898656,
           "#FAF9F6"
          ],
          [
           0.3516028955532575,
           "#FAF9F6"
          ],
          [
           0.35263702171664946,
           "#FAF9F6"
          ],
          [
           0.3536711478800414,
           "#FAF9F6"
          ],
          [
           0.35470527404343327,
           "#FAF9F6"
          ],
          [
           0.3557394002068252,
           "#FAF9F6"
          ],
          [
           0.35677352637021714,
           "#FAF9F6"
          ],
          [
           0.3578076525336091,
           "#FAF9F6"
          ],
          [
           0.358841778697001,
           "#FAF9F6"
          ],
          [
           0.35987590486039295,
           "#FAF9F6"
          ],
          [
           0.3609100310237849,
           "#FAF9F6"
          ],
          [
           0.3619441571871768,
           "#FAF9F6"
          ],
          [
           0.36297828335056875,
           "#FAF9F6"
          ],
          [
           0.3640124095139607,
           "#FAF9F6"
          ],
          [
           0.3650465356773526,
           "#FAF9F6"
          ],
          [
           0.36608066184074456,
           "#FAF9F6"
          ],
          [
           0.3671147880041365,
           "#FAF9F6"
          ],
          [
           0.36814891416752843,
           "#FAF9F6"
          ],
          [
           0.36918304033092036,
           "#FAF9F6"
          ],
          [
           0.3702171664943123,
           "#FAF9F6"
          ],
          [
           0.37125129265770423,
           "#FAF9F6"
          ],
          [
           0.37228541882109617,
           "#FAF9F6"
          ],
          [
           0.3733195449844881,
           "#FAF9F6"
          ],
          [
           0.37435367114788004,
           "#FAF9F6"
          ],
          [
           0.375387797311272,
           "#FAF9F6"
          ],
          [
           0.3764219234746639,
           "#FAF9F6"
          ],
          [
           0.37745604963805585,
           "#FAF9F6"
          ],
          [
           0.3784901758014478,
           "#FAF9F6"
          ],
          [
           0.3795243019648397,
           "#FAF9F6"
          ],
          [
           0.38055842812823165,
           "#FAF9F6"
          ],
          [
           0.3815925542916236,
           "#FAF9F6"
          ],
          [
           0.3826266804550155,
           "#FAF9F6"
          ],
          [
           0.38366080661840746,
           "#FAF9F6"
          ],
          [
           0.3846949327817994,
           "#FAF9F6"
          ],
          [
           0.3857290589451913,
           "#FAF9F6"
          ],
          [
           0.38676318510858326,
           "#FAF9F6"
          ],
          [
           0.3877973112719752,
           "#FAF9F6"
          ],
          [
           0.38883143743536713,
           "#FAF9F6"
          ],
          [
           0.38986556359875907,
           "#FAF9F6"
          ],
          [
           0.390899689762151,
           "#FAF9F6"
          ],
          [
           0.39193381592554294,
           "#FAF9F6"
          ],
          [
           0.3929679420889349,
           "#FAF9F6"
          ],
          [
           0.3940020682523268,
           "#FAF9F6"
          ],
          [
           0.39503619441571874,
           "#FAF9F6"
          ],
          [
           0.3960703205791106,
           "#FAF9F6"
          ],
          [
           0.39710444674250256,
           "#FAF9F6"
          ],
          [
           0.3981385729058945,
           "#FAF9F6"
          ],
          [
           0.39917269906928643,
           "#FAF9F6"
          ],
          [
           0.40020682523267836,
           "#FAF9F6"
          ],
          [
           0.4012409513960703,
           "#FAF9F6"
          ],
          [
           0.40227507755946224,
           "#FAF9F6"
          ],
          [
           0.40330920372285417,
           "#FAF9F6"
          ],
          [
           0.4043433298862461,
           "#FAF9F6"
          ],
          [
           0.40537745604963804,
           "#FAF9F6"
          ],
          [
           0.40641158221303,
           "#FAF9F6"
          ],
          [
           0.4074457083764219,
           "#FAF9F6"
          ],
          [
           0.40847983453981385,
           "#FAF9F6"
          ],
          [
           0.4095139607032058,
           "#FAF9F6"
          ],
          [
           0.4105480868665977,
           "#FAF9F6"
          ],
          [
           0.41158221302998965,
           "#FAF9F6"
          ],
          [
           0.4126163391933816,
           "#FAF9F6"
          ],
          [
           0.4136504653567735,
           "#FAF9F6"
          ],
          [
           0.41468459152016546,
           "#FAF9F6"
          ],
          [
           0.4157187176835574,
           "#FAF9F6"
          ],
          [
           0.41675284384694933,
           "#FAF9F6"
          ],
          [
           0.41778697001034126,
           "#FAF9F6"
          ],
          [
           0.4188210961737332,
           "#FAF9F6"
          ],
          [
           0.41985522233712513,
           "#FAF9F6"
          ],
          [
           0.42088934850051707,
           "#FAF9F6"
          ],
          [
           0.421923474663909,
           "#FAF9F6"
          ],
          [
           0.42295760082730094,
           "#FAF9F6"
          ],
          [
           0.4239917269906929,
           "#FAF9F6"
          ],
          [
           0.4250258531540848,
           "#FAF9F6"
          ],
          [
           0.42605997931747674,
           "#FAF9F6"
          ],
          [
           0.4270941054808687,
           "#FAF9F6"
          ],
          [
           0.4281282316442606,
           "#FAF9F6"
          ],
          [
           0.42916235780765255,
           "#FAF9F6"
          ],
          [
           0.4301964839710445,
           "#FAF9F6"
          ],
          [
           0.4312306101344364,
           "#FAF9F6"
          ],
          [
           0.43226473629782836,
           "#FAF9F6"
          ],
          [
           0.4332988624612203,
           "#FAF9F6"
          ],
          [
           0.4343329886246122,
           "#FAF9F6"
          ],
          [
           0.43536711478800416,
           "#FAF9F6"
          ],
          [
           0.4364012409513961,
           "#FAF9F6"
          ],
          [
           0.43743536711478803,
           "#FAF9F6"
          ],
          [
           0.4384694932781799,
           "#FAF9F6"
          ],
          [
           0.43950361944157185,
           "#FAF9F6"
          ],
          [
           0.4405377456049638,
           "#FAF9F6"
          ],
          [
           0.4415718717683557,
           "#FAF9F6"
          ],
          [
           0.44260599793174765,
           "#FAF9F6"
          ],
          [
           0.4436401240951396,
           "#FAF9F6"
          ],
          [
           0.4446742502585315,
           "#FAF9F6"
          ],
          [
           0.44570837642192346,
           "#FAF9F6"
          ],
          [
           0.4467425025853154,
           "#FAF9F6"
          ],
          [
           0.44777662874870733,
           "#FAF9F6"
          ],
          [
           0.44881075491209926,
           "#FAF9F6"
          ],
          [
           0.4498448810754912,
           "#FAF9F6"
          ],
          [
           0.45087900723888313,
           "#FAF9F6"
          ],
          [
           0.45191313340227507,
           "#FAF9F6"
          ],
          [
           0.452947259565667,
           "#FAF9F6"
          ],
          [
           0.45398138572905894,
           "#FAF9F6"
          ],
          [
           0.4550155118924509,
           "#FAF9F6"
          ],
          [
           0.4560496380558428,
           "#FAF9F6"
          ],
          [
           0.45708376421923474,
           "#FAF9F6"
          ],
          [
           0.4581178903826267,
           "#FAF9F6"
          ],
          [
           0.4591520165460186,
           "#FAF9F6"
          ],
          [
           0.46018614270941055,
           "#FAF9F6"
          ],
          [
           0.4612202688728025,
           "#FAF9F6"
          ],
          [
           0.4622543950361944,
           "#FAF9F6"
          ],
          [
           0.46328852119958636,
           "#FAF9F6"
          ],
          [
           0.4643226473629783,
           "#FAF9F6"
          ],
          [
           0.4653567735263702,
           "#FAF9F6"
          ],
          [
           0.46639089968976216,
           "#FAF9F6"
          ],
          [
           0.4674250258531541,
           "#FAF9F6"
          ],
          [
           0.46845915201654603,
           "#FAF9F6"
          ],
          [
           0.46949327817993797,
           "#FAF9F6"
          ],
          [
           0.4705274043433299,
           "#FAF9F6"
          ],
          [
           0.47156153050672184,
           "#FAF9F6"
          ],
          [
           0.4725956566701138,
           "#FAF9F6"
          ],
          [
           0.4736297828335057,
           "#FAF9F6"
          ],
          [
           0.47466390899689764,
           "#FAF9F6"
          ],
          [
           0.4756980351602896,
           "#FAF9F6"
          ],
          [
           0.4767321613236815,
           "#FAF9F6"
          ],
          [
           0.47776628748707345,
           "#FAF9F6"
          ],
          [
           0.4788004136504654,
           "#FAF9F6"
          ],
          [
           0.47983453981385726,
           "#FAF9F6"
          ],
          [
           0.4808686659772492,
           "#FAF9F6"
          ],
          [
           0.48190279214064113,
           "#FAF9F6"
          ],
          [
           0.48293691830403307,
           "#FAF9F6"
          ],
          [
           0.483971044467425,
           "#FAF9F6"
          ],
          [
           0.48500517063081694,
           "#FAF9F6"
          ],
          [
           0.4860392967942089,
           "#FAF9F6"
          ],
          [
           0.4870734229576008,
           "#FAF9F6"
          ],
          [
           0.48810754912099275,
           "#FAF9F6"
          ],
          [
           0.4891416752843847,
           "#FAF9F6"
          ],
          [
           0.4901758014477766,
           "#FAF9F6"
          ],
          [
           0.49120992761116855,
           "#FAF9F6"
          ],
          [
           0.4922440537745605,
           "#FAF9F6"
          ],
          [
           0.4932781799379524,
           "#FAF9F6"
          ],
          [
           0.49431230610134436,
           "#FAF9F6"
          ],
          [
           0.4953464322647363,
           "#FAF9F6"
          ],
          [
           0.4963805584281282,
           "#FAF9F6"
          ],
          [
           0.49741468459152016,
           "#FAF9F6"
          ],
          [
           0.4984488107549121,
           "#FAF9F6"
          ],
          [
           0.49948293691830403,
           "#FAF9F6"
          ],
          [
           0.500517063081696,
           "#FAF9F6"
          ],
          [
           0.5015511892450879,
           "#FAF9F6"
          ],
          [
           0.5025853154084798,
           "#FAF9F6"
          ],
          [
           0.5036194415718718,
           "#FAF9F6"
          ],
          [
           0.5046535677352637,
           "#FAF9F6"
          ],
          [
           0.5056876938986556,
           "#FAF9F6"
          ],
          [
           0.5067218200620476,
           "#FAF9F6"
          ],
          [
           0.5077559462254395,
           "#FAF9F6"
          ],
          [
           0.5087900723888314,
           "#FAF9F6"
          ],
          [
           0.5098241985522234,
           "#FAF9F6"
          ],
          [
           0.5108583247156153,
           "#FAF9F6"
          ],
          [
           0.5118924508790073,
           "#FAF9F6"
          ],
          [
           0.5129265770423992,
           "#FAF9F6"
          ],
          [
           0.5139607032057911,
           "#FAF9F6"
          ],
          [
           0.5149948293691831,
           "#FAF9F6"
          ],
          [
           0.516028955532575,
           "#FAF9F6"
          ],
          [
           0.5170630816959669,
           "#FAF9F6"
          ],
          [
           0.5180972078593589,
           "#FAF9F6"
          ],
          [
           0.5191313340227508,
           "#FAF9F6"
          ],
          [
           0.5201654601861427,
           "#FAF9F6"
          ],
          [
           0.5211995863495347,
           "#FAF9F6"
          ],
          [
           0.5222337125129266,
           "#FAF9F6"
          ],
          [
           0.5232678386763185,
           "#FAF9F6"
          ],
          [
           0.5243019648397105,
           "#FAF9F6"
          ],
          [
           0.5253360910031024,
           "#FAF9F6"
          ],
          [
           0.5263702171664943,
           "#FAF9F6"
          ],
          [
           0.5274043433298863,
           "#FAF9F6"
          ],
          [
           0.5284384694932782,
           "#FAF9F6"
          ],
          [
           0.5294725956566702,
           "#FAF9F6"
          ],
          [
           0.5305067218200621,
           "#FAF9F6"
          ],
          [
           0.531540847983454,
           "#FAF9F6"
          ],
          [
           0.532574974146846,
           "#FAF9F6"
          ],
          [
           0.5336091003102379,
           "#FAF9F6"
          ],
          [
           0.5346432264736298,
           "#FAF9F6"
          ],
          [
           0.5356773526370218,
           "#FAF9F6"
          ],
          [
           0.5367114788004137,
           "#FAF9F6"
          ],
          [
           0.5377456049638056,
           "#FAF9F6"
          ],
          [
           0.5387797311271976,
           "#FAF9F6"
          ],
          [
           0.5398138572905895,
           "#FAF9F6"
          ],
          [
           0.5408479834539814,
           "#FAF9F6"
          ],
          [
           0.5418821096173733,
           "#FAF9F6"
          ],
          [
           0.5429162357807652,
           "#FAF9F6"
          ],
          [
           0.5439503619441571,
           "#FAF9F6"
          ],
          [
           0.5449844881075491,
           "#FAF9F6"
          ],
          [
           0.546018614270941,
           "#FAF9F6"
          ],
          [
           0.5470527404343329,
           "#FAF9F6"
          ],
          [
           0.5480868665977249,
           "#FAF9F6"
          ],
          [
           0.5491209927611168,
           "#FAF9F6"
          ],
          [
           0.5501551189245087,
           "#FAF9F6"
          ],
          [
           0.5511892450879007,
           "#FAF9F6"
          ],
          [
           0.5522233712512926,
           "#FAF9F6"
          ],
          [
           0.5532574974146846,
           "#FAF9F6"
          ],
          [
           0.5542916235780765,
           "#FAF9F6"
          ],
          [
           0.5553257497414684,
           "#FAF9F6"
          ],
          [
           0.5563598759048604,
           "#FAF9F6"
          ],
          [
           0.5573940020682523,
           "#FAF9F6"
          ],
          [
           0.5584281282316442,
           "#FAF9F6"
          ],
          [
           0.5594622543950362,
           "#FAF9F6"
          ],
          [
           0.5604963805584281,
           "#FAF9F6"
          ],
          [
           0.56153050672182,
           "#FAF9F6"
          ],
          [
           0.562564632885212,
           "#FAF9F6"
          ],
          [
           0.5635987590486039,
           "#FAF9F6"
          ],
          [
           0.5646328852119958,
           "#FAF9F6"
          ],
          [
           0.5656670113753878,
           "#FAF9F6"
          ],
          [
           0.5667011375387797,
           "#FAF9F6"
          ],
          [
           0.5677352637021716,
           "#FAF9F6"
          ],
          [
           0.5687693898655636,
           "#FAF9F6"
          ],
          [
           0.5698035160289555,
           "#FAF9F6"
          ],
          [
           0.5708376421923474,
           "#FAF9F6"
          ],
          [
           0.5718717683557394,
           "#FAF9F6"
          ],
          [
           0.5729058945191313,
           "#FAF9F6"
          ],
          [
           0.5739400206825233,
           "#FAF9F6"
          ],
          [
           0.5749741468459152,
           "#FAF9F6"
          ],
          [
           0.5760082730093071,
           "#FAF9F6"
          ],
          [
           0.5770423991726991,
           "#FAF9F6"
          ],
          [
           0.578076525336091,
           "#FAF9F6"
          ],
          [
           0.5791106514994829,
           "#FAF9F6"
          ],
          [
           0.5801447776628749,
           "#FAF9F6"
          ],
          [
           0.5811789038262668,
           "#FAF9F6"
          ],
          [
           0.5822130299896587,
           "#FAF9F6"
          ],
          [
           0.5832471561530507,
           "#FAF9F6"
          ],
          [
           0.5842812823164426,
           "#FAF9F6"
          ],
          [
           0.5853154084798345,
           "#FAF9F6"
          ],
          [
           0.5863495346432265,
           "#FAF9F6"
          ],
          [
           0.5873836608066184,
           "#FAF9F6"
          ],
          [
           0.5884177869700103,
           "#FAF9F6"
          ],
          [
           0.5894519131334023,
           "#FAF9F6"
          ],
          [
           0.5904860392967942,
           "#FAF9F6"
          ],
          [
           0.5915201654601862,
           "#FAF9F6"
          ],
          [
           0.5925542916235781,
           "#FAF9F6"
          ],
          [
           0.59358841778697,
           "#FAF9F6"
          ],
          [
           0.594622543950362,
           "#FAF9F6"
          ],
          [
           0.5956566701137539,
           "#FAF9F6"
          ],
          [
           0.5966907962771458,
           "#FAF9F6"
          ],
          [
           0.5977249224405378,
           "#FAF9F6"
          ],
          [
           0.5987590486039297,
           "#FAF9F6"
          ],
          [
           0.5997931747673216,
           "#FAF9F6"
          ],
          [
           0.6008273009307136,
           "#FAF9F6"
          ],
          [
           0.6018614270941055,
           "#FAF9F6"
          ],
          [
           0.6028955532574974,
           "#FAF9F6"
          ],
          [
           0.6039296794208894,
           "#FAF9F6"
          ],
          [
           0.6049638055842813,
           "#FAF9F6"
          ],
          [
           0.6059979317476732,
           "#FAF9F6"
          ],
          [
           0.6070320579110652,
           "#FAF9F6"
          ],
          [
           0.6080661840744571,
           "#FAF9F6"
          ],
          [
           0.609100310237849,
           "#FAF9F6"
          ],
          [
           0.610134436401241,
           "#FAF9F6"
          ],
          [
           0.6111685625646329,
           "#FAF9F6"
          ],
          [
           0.6122026887280249,
           "#FAF9F6"
          ],
          [
           0.6132368148914168,
           "#FAF9F6"
          ],
          [
           0.6142709410548087,
           "#FAF9F6"
          ],
          [
           0.6153050672182007,
           "#FAF9F6"
          ],
          [
           0.6163391933815926,
           "#FAF9F6"
          ],
          [
           0.6173733195449845,
           "#FAF9F6"
          ],
          [
           0.6184074457083765,
           "#FAF9F6"
          ],
          [
           0.6194415718717684,
           "#FAF9F6"
          ],
          [
           0.6204756980351603,
           "#FAF9F6"
          ],
          [
           0.6215098241985523,
           "#FAF9F6"
          ],
          [
           0.6225439503619442,
           "#FAF9F6"
          ],
          [
           0.6235780765253361,
           "#FAF9F6"
          ],
          [
           0.6246122026887281,
           "#FAF9F6"
          ],
          [
           0.6256463288521199,
           "#FAF9F6"
          ],
          [
           0.6266804550155118,
           "#FAF9F6"
          ],
          [
           0.6277145811789038,
           "#FAF9F6"
          ],
          [
           0.6287487073422957,
           "#FAF9F6"
          ],
          [
           0.6297828335056876,
           "#FAF9F6"
          ],
          [
           0.6308169596690796,
           "#FAF9F6"
          ],
          [
           0.6318510858324715,
           "#FAF9F6"
          ],
          [
           0.6328852119958635,
           "#FAF9F6"
          ],
          [
           0.6339193381592554,
           "#FAF9F6"
          ],
          [
           0.6349534643226473,
           "#FAF9F6"
          ],
          [
           0.6359875904860393,
           "#FAF9F6"
          ],
          [
           0.6370217166494312,
           "#FAF9F6"
          ],
          [
           0.6380558428128231,
           "#FAF9F6"
          ],
          [
           0.6390899689762151,
           "#FAF9F6"
          ],
          [
           0.640124095139607,
           "#FAF9F6"
          ],
          [
           0.6411582213029989,
           "#FAF9F6"
          ],
          [
           0.6421923474663909,
           "#FAF9F6"
          ],
          [
           0.6432264736297828,
           "#FAF9F6"
          ],
          [
           0.6442605997931747,
           "#FAF9F6"
          ],
          [
           0.6452947259565667,
           "#FAF9F6"
          ],
          [
           0.6463288521199586,
           "#FAF9F6"
          ],
          [
           0.6473629782833505,
           "#FAF9F6"
          ],
          [
           0.6483971044467425,
           "#FAF9F6"
          ],
          [
           0.6494312306101344,
           "#FAF9F6"
          ],
          [
           0.6504653567735263,
           "#FAF9F6"
          ],
          [
           0.6514994829369183,
           "#FAF9F6"
          ],
          [
           0.6525336091003102,
           "#FAF9F6"
          ],
          [
           0.6535677352637022,
           "#FAF9F6"
          ],
          [
           0.6546018614270941,
           "#FAF9F6"
          ],
          [
           0.655635987590486,
           "#FAF9F6"
          ],
          [
           0.656670113753878,
           "#FAF9F6"
          ],
          [
           0.6577042399172699,
           "#FAF9F6"
          ],
          [
           0.6587383660806618,
           "#FAF9F6"
          ],
          [
           0.6597724922440538,
           "#FAF9F6"
          ],
          [
           0.6608066184074457,
           "#FAF9F6"
          ],
          [
           0.6618407445708376,
           "#FAF9F6"
          ],
          [
           0.6628748707342296,
           "#FAF9F6"
          ],
          [
           0.6639089968976215,
           "#FAF9F6"
          ],
          [
           0.6649431230610134,
           "#FAF9F6"
          ],
          [
           0.6659772492244054,
           "#FAF9F6"
          ],
          [
           0.6670113753877973,
           "#FAF9F6"
          ],
          [
           0.6680455015511892,
           "#FAF9F6"
          ],
          [
           0.6690796277145812,
           "#FAF9F6"
          ],
          [
           0.6701137538779731,
           "#FAF9F6"
          ],
          [
           0.671147880041365,
           "#FAF9F6"
          ],
          [
           0.672182006204757,
           "#FAF9F6"
          ],
          [
           0.6732161323681489,
           "#FAF9F6"
          ],
          [
           0.6742502585315409,
           "#FAF9F6"
          ],
          [
           0.6752843846949328,
           "#FAF9F6"
          ],
          [
           0.6763185108583247,
           "#FAF9F6"
          ],
          [
           0.6773526370217167,
           "#FAF9F6"
          ],
          [
           0.6783867631851086,
           "#FAF9F6"
          ],
          [
           0.6794208893485005,
           "#FAF9F6"
          ],
          [
           0.6804550155118925,
           "#FAF9F6"
          ],
          [
           0.6814891416752844,
           "#FAF9F6"
          ],
          [
           0.6825232678386763,
           "#FAF9F6"
          ],
          [
           0.6835573940020683,
           "#FAF9F6"
          ],
          [
           0.6845915201654602,
           "#FAF9F6"
          ],
          [
           0.6856256463288521,
           "#FAF9F6"
          ],
          [
           0.6866597724922441,
           "#FAF9F6"
          ],
          [
           0.687693898655636,
           "#FAF9F6"
          ],
          [
           0.688728024819028,
           "#FAF9F6"
          ],
          [
           0.6897621509824199,
           "#FAF9F6"
          ],
          [
           0.6907962771458118,
           "#FAF9F6"
          ],
          [
           0.6918304033092038,
           "#FAF9F6"
          ],
          [
           0.6928645294725957,
           "#FAF9F6"
          ],
          [
           0.6938986556359876,
           "#FAF9F6"
          ],
          [
           0.6949327817993796,
           "#FAF9F6"
          ],
          [
           0.6959669079627715,
           "#FAF9F6"
          ],
          [
           0.6970010341261634,
           "#FAF9F6"
          ],
          [
           0.6980351602895554,
           "#FAF9F6"
          ],
          [
           0.6990692864529473,
           "#FAF9F6"
          ],
          [
           0.7001034126163392,
           "#FAF9F6"
          ],
          [
           0.7011375387797312,
           "#FAF9F6"
          ],
          [
           0.7021716649431231,
           "#FAF9F6"
          ],
          [
           0.703205791106515,
           "purple"
          ],
          [
           0.704239917269907,
           "purple"
          ],
          [
           0.7052740434332989,
           "purple"
          ],
          [
           0.7063081695966908,
           "purple"
          ],
          [
           0.7073422957600828,
           "purple"
          ],
          [
           0.7083764219234746,
           "purple"
          ],
          [
           0.7094105480868665,
           "purple"
          ],
          [
           0.7104446742502585,
           "purple"
          ],
          [
           0.7114788004136504,
           "purple"
          ],
          [
           0.7125129265770423,
           "purple"
          ],
          [
           0.7135470527404343,
           "purple"
          ],
          [
           0.7145811789038262,
           "purple"
          ],
          [
           0.7156153050672182,
           "purple"
          ],
          [
           0.7166494312306101,
           "purple"
          ],
          [
           0.717683557394002,
           "purple"
          ],
          [
           0.718717683557394,
           "purple"
          ],
          [
           0.7197518097207859,
           "purple"
          ],
          [
           0.7207859358841778,
           "purple"
          ],
          [
           0.7218200620475698,
           "purple"
          ],
          [
           0.7228541882109617,
           "purple"
          ],
          [
           0.7238883143743536,
           "purple"
          ],
          [
           0.7249224405377456,
           "purple"
          ],
          [
           0.7259565667011375,
           "purple"
          ],
          [
           0.7269906928645294,
           "purple"
          ],
          [
           0.7280248190279214,
           "purple"
          ],
          [
           0.7290589451913133,
           "purple"
          ],
          [
           0.7300930713547052,
           "purple"
          ],
          [
           0.7311271975180972,
           "purple"
          ],
          [
           0.7321613236814891,
           "purple"
          ],
          [
           0.733195449844881,
           "purple"
          ],
          [
           0.734229576008273,
           "purple"
          ],
          [
           0.7352637021716649,
           "purple"
          ],
          [
           0.7362978283350569,
           "purple"
          ],
          [
           0.7373319544984488,
           "purple"
          ],
          [
           0.7383660806618407,
           "purple"
          ],
          [
           0.7394002068252327,
           "purple"
          ],
          [
           0.7404343329886246,
           "purple"
          ],
          [
           0.7414684591520165,
           "purple"
          ],
          [
           0.7425025853154085,
           "purple"
          ],
          [
           0.7435367114788004,
           "purple"
          ],
          [
           0.7445708376421923,
           "purple"
          ],
          [
           0.7456049638055843,
           "purple"
          ],
          [
           0.7466390899689762,
           "purple"
          ],
          [
           0.7476732161323681,
           "purple"
          ],
          [
           0.7487073422957601,
           "purple"
          ],
          [
           0.749741468459152,
           "purple"
          ],
          [
           0.750775594622544,
           "purple"
          ],
          [
           0.7518097207859359,
           "purple"
          ],
          [
           0.7528438469493278,
           "purple"
          ],
          [
           0.7538779731127198,
           "purple"
          ],
          [
           0.7549120992761117,
           "purple"
          ],
          [
           0.7559462254395036,
           "purple"
          ],
          [
           0.7569803516028956,
           "purple"
          ],
          [
           0.7580144777662875,
           "purple"
          ],
          [
           0.7590486039296794,
           "purple"
          ],
          [
           0.7600827300930714,
           "purple"
          ],
          [
           0.7611168562564633,
           "purple"
          ],
          [
           0.7621509824198552,
           "purple"
          ],
          [
           0.7631851085832472,
           "purple"
          ],
          [
           0.7642192347466391,
           "purple"
          ],
          [
           0.765253360910031,
           "purple"
          ],
          [
           0.766287487073423,
           "purple"
          ],
          [
           0.7673216132368149,
           "purple"
          ],
          [
           0.7683557394002068,
           "purple"
          ],
          [
           0.7693898655635988,
           "purple"
          ],
          [
           0.7704239917269907,
           "purple"
          ],
          [
           0.7714581178903827,
           "purple"
          ],
          [
           0.7724922440537746,
           "purple"
          ],
          [
           0.7735263702171665,
           "purple"
          ],
          [
           0.7745604963805585,
           "purple"
          ],
          [
           0.7755946225439504,
           "purple"
          ],
          [
           0.7766287487073423,
           "purple"
          ],
          [
           0.7776628748707343,
           "purple"
          ],
          [
           0.7786970010341262,
           "purple"
          ],
          [
           0.7797311271975181,
           "purple"
          ],
          [
           0.7807652533609101,
           "purple"
          ],
          [
           0.781799379524302,
           "purple"
          ],
          [
           0.7828335056876939,
           "purple"
          ],
          [
           0.7838676318510859,
           "purple"
          ],
          [
           0.7849017580144778,
           "purple"
          ],
          [
           0.7859358841778697,
           "purple"
          ],
          [
           0.7869700103412617,
           "purple"
          ],
          [
           0.7880041365046536,
           "purple"
          ],
          [
           0.7890382626680456,
           "purple"
          ],
          [
           0.7900723888314375,
           "purple"
          ],
          [
           0.7911065149948294,
           "purple"
          ],
          [
           0.7921406411582212,
           "purple"
          ],
          [
           0.7931747673216132,
           "purple"
          ],
          [
           0.7942088934850051,
           "purple"
          ],
          [
           0.795243019648397,
           "purple"
          ],
          [
           0.796277145811789,
           "purple"
          ],
          [
           0.7973112719751809,
           "purple"
          ],
          [
           0.7983453981385729,
           "purple"
          ],
          [
           0.7993795243019648,
           "purple"
          ],
          [
           0.8004136504653567,
           "purple"
          ],
          [
           0.8014477766287487,
           "purple"
          ],
          [
           0.8024819027921406,
           "purple"
          ],
          [
           0.8035160289555325,
           "purple"
          ],
          [
           0.8045501551189245,
           "purple"
          ],
          [
           0.8055842812823164,
           "purple"
          ],
          [
           0.8066184074457083,
           "purple"
          ],
          [
           0.8076525336091003,
           "purple"
          ],
          [
           0.8086866597724922,
           "purple"
          ],
          [
           0.8097207859358841,
           "purple"
          ],
          [
           0.8107549120992761,
           "purple"
          ],
          [
           0.811789038262668,
           "purple"
          ],
          [
           0.81282316442606,
           "purple"
          ],
          [
           0.8138572905894519,
           "purple"
          ],
          [
           0.8148914167528438,
           "purple"
          ],
          [
           0.8159255429162358,
           "purple"
          ],
          [
           0.8169596690796277,
           "purple"
          ],
          [
           0.8179937952430196,
           "purple"
          ],
          [
           0.8190279214064116,
           "purple"
          ],
          [
           0.8200620475698035,
           "purple"
          ],
          [
           0.8210961737331954,
           "purple"
          ],
          [
           0.8221302998965874,
           "purple"
          ],
          [
           0.8231644260599793,
           "purple"
          ],
          [
           0.8241985522233712,
           "purple"
          ],
          [
           0.8252326783867632,
           "purple"
          ],
          [
           0.8262668045501551,
           "purple"
          ],
          [
           0.827300930713547,
           "purple"
          ],
          [
           0.828335056876939,
           "purple"
          ],
          [
           0.8293691830403309,
           "purple"
          ],
          [
           0.8304033092037229,
           "purple"
          ],
          [
           0.8314374353671148,
           "purple"
          ],
          [
           0.8324715615305067,
           "purple"
          ],
          [
           0.8335056876938987,
           "purple"
          ],
          [
           0.8345398138572906,
           "purple"
          ],
          [
           0.8355739400206825,
           "purple"
          ],
          [
           0.8366080661840745,
           "purple"
          ],
          [
           0.8376421923474664,
           "purple"
          ],
          [
           0.8386763185108583,
           "purple"
          ],
          [
           0.8397104446742503,
           "purple"
          ],
          [
           0.8407445708376422,
           "purple"
          ],
          [
           0.8417786970010341,
           "purple"
          ],
          [
           0.8428128231644261,
           "purple"
          ],
          [
           0.843846949327818,
           "purple"
          ],
          [
           0.8448810754912099,
           "purple"
          ],
          [
           0.8459152016546019,
           "purple"
          ],
          [
           0.8469493278179938,
           "purple"
          ],
          [
           0.8479834539813857,
           "purple"
          ],
          [
           0.8490175801447777,
           "purple"
          ],
          [
           0.8500517063081696,
           "purple"
          ],
          [
           0.8510858324715616,
           "purple"
          ],
          [
           0.8521199586349535,
           "purple"
          ],
          [
           0.8531540847983454,
           "purple"
          ],
          [
           0.8541882109617374,
           "purple"
          ],
          [
           0.8552223371251293,
           "purple"
          ],
          [
           0.8562564632885212,
           "purple"
          ],
          [
           0.8572905894519132,
           "purple"
          ],
          [
           0.8583247156153051,
           "purple"
          ],
          [
           0.859358841778697,
           "purple"
          ],
          [
           0.860392967942089,
           "purple"
          ],
          [
           0.8614270941054809,
           "purple"
          ],
          [
           0.8624612202688728,
           "purple"
          ],
          [
           0.8634953464322648,
           "purple"
          ],
          [
           0.8645294725956567,
           "purple"
          ],
          [
           0.8655635987590486,
           "purple"
          ],
          [
           0.8665977249224406,
           "purple"
          ],
          [
           0.8676318510858325,
           "purple"
          ],
          [
           0.8686659772492245,
           "purple"
          ],
          [
           0.8697001034126164,
           "purple"
          ],
          [
           0.8707342295760083,
           "purple"
          ],
          [
           0.8717683557394003,
           "purple"
          ],
          [
           0.8728024819027922,
           "purple"
          ],
          [
           0.8738366080661841,
           "purple"
          ],
          [
           0.8748707342295761,
           "purple"
          ],
          [
           0.8759048603929679,
           "purple"
          ],
          [
           0.8769389865563598,
           "purple"
          ],
          [
           0.8779731127197518,
           "purple"
          ],
          [
           0.8790072388831437,
           "purple"
          ],
          [
           0.8800413650465356,
           "purple"
          ],
          [
           0.8810754912099276,
           "purple"
          ],
          [
           0.8821096173733195,
           "purple"
          ],
          [
           0.8831437435367114,
           "purple"
          ],
          [
           0.8841778697001034,
           "purple"
          ],
          [
           0.8852119958634953,
           "purple"
          ],
          [
           0.8862461220268872,
           "purple"
          ],
          [
           0.8872802481902792,
           "purple"
          ],
          [
           0.8883143743536711,
           "purple"
          ],
          [
           0.889348500517063,
           "purple"
          ],
          [
           0.890382626680455,
           "purple"
          ],
          [
           0.8914167528438469,
           "purple"
          ],
          [
           0.8924508790072389,
           "purple"
          ],
          [
           0.8934850051706308,
           "purple"
          ],
          [
           0.8945191313340227,
           "purple"
          ],
          [
           0.8955532574974147,
           "purple"
          ],
          [
           0.8965873836608066,
           "purple"
          ],
          [
           0.8976215098241985,
           "purple"
          ],
          [
           0.8986556359875905,
           "purple"
          ],
          [
           0.8996897621509824,
           "purple"
          ],
          [
           0.9007238883143743,
           "purple"
          ],
          [
           0.9017580144777663,
           "purple"
          ],
          [
           0.9027921406411582,
           "purple"
          ],
          [
           0.9038262668045501,
           "purple"
          ],
          [
           0.9048603929679421,
           "purple"
          ],
          [
           0.905894519131334,
           "purple"
          ],
          [
           0.9069286452947259,
           "purple"
          ],
          [
           0.9079627714581179,
           "purple"
          ],
          [
           0.9089968976215098,
           "purple"
          ],
          [
           0.9100310237849017,
           "purple"
          ],
          [
           0.9110651499482937,
           "purple"
          ],
          [
           0.9120992761116856,
           "purple"
          ],
          [
           0.9131334022750776,
           "purple"
          ],
          [
           0.9141675284384695,
           "purple"
          ],
          [
           0.9152016546018614,
           "purple"
          ],
          [
           0.9162357807652534,
           "purple"
          ],
          [
           0.9172699069286453,
           "purple"
          ],
          [
           0.9183040330920372,
           "purple"
          ],
          [
           0.9193381592554292,
           "purple"
          ],
          [
           0.9203722854188211,
           "purple"
          ],
          [
           0.921406411582213,
           "purple"
          ],
          [
           0.922440537745605,
           "purple"
          ],
          [
           0.9234746639089969,
           "purple"
          ],
          [
           0.9245087900723888,
           "purple"
          ],
          [
           0.9255429162357808,
           "purple"
          ],
          [
           0.9265770423991727,
           "purple"
          ],
          [
           0.9276111685625646,
           "purple"
          ],
          [
           0.9286452947259566,
           "purple"
          ],
          [
           0.9296794208893485,
           "purple"
          ],
          [
           0.9307135470527405,
           "purple"
          ],
          [
           0.9317476732161324,
           "purple"
          ],
          [
           0.9327817993795243,
           "purple"
          ],
          [
           0.9338159255429163,
           "purple"
          ],
          [
           0.9348500517063082,
           "purple"
          ],
          [
           0.9358841778697001,
           "purple"
          ],
          [
           0.9369183040330921,
           "purple"
          ],
          [
           0.937952430196484,
           "purple"
          ],
          [
           0.9389865563598759,
           "purple"
          ],
          [
           0.9400206825232679,
           "purple"
          ],
          [
           0.9410548086866598,
           "purple"
          ],
          [
           0.9420889348500517,
           "purple"
          ],
          [
           0.9431230610134437,
           "purple"
          ],
          [
           0.9441571871768356,
           "purple"
          ],
          [
           0.9451913133402275,
           "purple"
          ],
          [
           0.9462254395036195,
           "purple"
          ],
          [
           0.9472595656670114,
           "purple"
          ],
          [
           0.9482936918304034,
           "purple"
          ],
          [
           0.9493278179937953,
           "purple"
          ],
          [
           0.9503619441571872,
           "purple"
          ],
          [
           0.9513960703205792,
           "purple"
          ],
          [
           0.9524301964839711,
           "purple"
          ],
          [
           0.953464322647363,
           "purple"
          ],
          [
           0.954498448810755,
           "purple"
          ],
          [
           0.9555325749741469,
           "purple"
          ],
          [
           0.9565667011375388,
           "purple"
          ],
          [
           0.9576008273009308,
           "purple"
          ],
          [
           0.9586349534643226,
           "purple"
          ],
          [
           0.9596690796277145,
           "purple"
          ],
          [
           0.9607032057911065,
           "purple"
          ],
          [
           0.9617373319544984,
           "purple"
          ],
          [
           0.9627714581178903,
           "purple"
          ],
          [
           0.9638055842812823,
           "purple"
          ],
          [
           0.9648397104446742,
           "purple"
          ],
          [
           0.9658738366080661,
           "purple"
          ],
          [
           0.9669079627714581,
           "purple"
          ],
          [
           0.96794208893485,
           "purple"
          ],
          [
           0.9689762150982419,
           "purple"
          ],
          [
           0.9700103412616339,
           "purple"
          ],
          [
           0.9710444674250258,
           "purple"
          ],
          [
           0.9720785935884177,
           "purple"
          ],
          [
           0.9731127197518097,
           "purple"
          ],
          [
           0.9741468459152016,
           "purple"
          ],
          [
           0.9751809720785936,
           "purple"
          ],
          [
           0.9762150982419855,
           "purple"
          ],
          [
           0.9772492244053774,
           "purple"
          ],
          [
           0.9782833505687694,
           "purple"
          ],
          [
           0.9793174767321613,
           "purple"
          ],
          [
           0.9803516028955532,
           "purple"
          ],
          [
           0.9813857290589452,
           "purple"
          ],
          [
           0.9824198552223371,
           "purple"
          ],
          [
           0.983453981385729,
           "purple"
          ],
          [
           0.984488107549121,
           "purple"
          ],
          [
           0.9855222337125129,
           "purple"
          ],
          [
           0.9865563598759048,
           "purple"
          ],
          [
           0.9875904860392968,
           "purple"
          ],
          [
           0.9886246122026887,
           "purple"
          ],
          [
           0.9896587383660806,
           "purple"
          ],
          [
           0.9906928645294726,
           "purple"
          ],
          [
           0.9917269906928645,
           "purple"
          ],
          [
           0.9927611168562565,
           "purple"
          ],
          [
           0.9937952430196484,
           "purple"
          ],
          [
           0.9948293691830403,
           "purple"
          ],
          [
           0.9958634953464323,
           "purple"
          ],
          [
           0.9968976215098242,
           "purple"
          ],
          [
           0.9979317476732161,
           "purple"
          ],
          [
           0.9989658738366081,
           "purple"
          ],
          [
           1,
           "purple"
          ]
         ],
         "showscale": false,
         "text": [
          [
           -4.736823167084886,
           4.7368231670848875
          ],
          [
           -2.170425345715777,
           2.170425345715776
          ],
          [
           3.510702602997198,
           -3.510702602997199
          ],
          [
           3.510702602997198,
           -3.510702602997199
          ]
         ],
         "texttemplate": "%{text:.2f}",
         "type": "heatmap",
         "x": [
          "OECD",
          "PARTNERS"
         ],
         "y": [
          "grupo_1",
          "grupo_2",
          "grupo_3",
          "grupo_4"
         ],
         "z": [
          [
           -4.736823167084886,
           4.7368231670848875
          ],
          [
           -2.170425345715777,
           2.170425345715776
          ],
          [
           3.510702602997198,
           -3.510702602997199
          ],
          [
           3.510702602997198,
           -3.510702602997199
          ]
         ]
        }
       ],
       "layout": {
        "height": 600,
        "template": {
         "data": {
          "bar": [
           {
            "error_x": {
             "color": "#2a3f5f"
            },
            "error_y": {
             "color": "#2a3f5f"
            },
            "marker": {
             "line": {
              "color": "#E5ECF6",
              "width": 0.5
             },
             "pattern": {
              "fillmode": "overlay",
              "size": 10,
              "solidity": 0.2
             }
            },
            "type": "bar"
           }
          ],
          "barpolar": [
           {
            "marker": {
             "line": {
              "color": "#E5ECF6",
              "width": 0.5
             },
             "pattern": {
              "fillmode": "overlay",
              "size": 10,
              "solidity": 0.2
             }
            },
            "type": "barpolar"
           }
          ],
          "carpet": [
           {
            "aaxis": {
             "endlinecolor": "#2a3f5f",
             "gridcolor": "white",
             "linecolor": "white",
             "minorgridcolor": "white",
             "startlinecolor": "#2a3f5f"
            },
            "baxis": {
             "endlinecolor": "#2a3f5f",
             "gridcolor": "white",
             "linecolor": "white",
             "minorgridcolor": "white",
             "startlinecolor": "#2a3f5f"
            },
            "type": "carpet"
           }
          ],
          "choropleth": [
           {
            "colorbar": {
             "outlinewidth": 0,
             "ticks": ""
            },
            "type": "choropleth"
           }
          ],
          "contour": [
           {
            "colorbar": {
             "outlinewidth": 0,
             "ticks": ""
            },
            "colorscale": [
             [
              0,
              "#0d0887"
             ],
             [
              0.1111111111111111,
              "#46039f"
             ],
             [
              0.2222222222222222,
              "#7201a8"
             ],
             [
              0.3333333333333333,
              "#9c179e"
             ],
             [
              0.4444444444444444,
              "#bd3786"
             ],
             [
              0.5555555555555556,
              "#d8576b"
             ],
             [
              0.6666666666666666,
              "#ed7953"
             ],
             [
              0.7777777777777778,
              "#fb9f3a"
             ],
             [
              0.8888888888888888,
              "#fdca26"
             ],
             [
              1,
              "#f0f921"
             ]
            ],
            "type": "contour"
           }
          ],
          "contourcarpet": [
           {
            "colorbar": {
             "outlinewidth": 0,
             "ticks": ""
            },
            "type": "contourcarpet"
           }
          ],
          "heatmap": [
           {
            "colorbar": {
             "outlinewidth": 0,
             "ticks": ""
            },
            "colorscale": [
             [
              0,
              "#0d0887"
             ],
             [
              0.1111111111111111,
              "#46039f"
             ],
             [
              0.2222222222222222,
              "#7201a8"
             ],
             [
              0.3333333333333333,
              "#9c179e"
             ],
             [
              0.4444444444444444,
              "#bd3786"
             ],
             [
              0.5555555555555556,
              "#d8576b"
             ],
             [
              0.6666666666666666,
              "#ed7953"
             ],
             [
              0.7777777777777778,
              "#fb9f3a"
             ],
             [
              0.8888888888888888,
              "#fdca26"
             ],
             [
              1,
              "#f0f921"
             ]
            ],
            "type": "heatmap"
           }
          ],
          "heatmapgl": [
           {
            "colorbar": {
             "outlinewidth": 0,
             "ticks": ""
            },
            "colorscale": [
             [
              0,
              "#0d0887"
             ],
             [
              0.1111111111111111,
              "#46039f"
             ],
             [
              0.2222222222222222,
              "#7201a8"
             ],
             [
              0.3333333333333333,
              "#9c179e"
             ],
             [
              0.4444444444444444,
              "#bd3786"
             ],
             [
              0.5555555555555556,
              "#d8576b"
             ],
             [
              0.6666666666666666,
              "#ed7953"
             ],
             [
              0.7777777777777778,
              "#fb9f3a"
             ],
             [
              0.8888888888888888,
              "#fdca26"
             ],
             [
              1,
              "#f0f921"
             ]
            ],
            "type": "heatmapgl"
           }
          ],
          "histogram": [
           {
            "marker": {
             "pattern": {
              "fillmode": "overlay",
              "size": 10,
              "solidity": 0.2
             }
            },
            "type": "histogram"
           }
          ],
          "histogram2d": [
           {
            "colorbar": {
             "outlinewidth": 0,
             "ticks": ""
            },
            "colorscale": [
             [
              0,
              "#0d0887"
             ],
             [
              0.1111111111111111,
              "#46039f"
             ],
             [
              0.2222222222222222,
              "#7201a8"
             ],
             [
              0.3333333333333333,
              "#9c179e"
             ],
             [
              0.4444444444444444,
              "#bd3786"
             ],
             [
              0.5555555555555556,
              "#d8576b"
             ],
             [
              0.6666666666666666,
              "#ed7953"
             ],
             [
              0.7777777777777778,
              "#fb9f3a"
             ],
             [
              0.8888888888888888,
              "#fdca26"
             ],
             [
              1,
              "#f0f921"
             ]
            ],
            "type": "histogram2d"
           }
          ],
          "histogram2dcontour": [
           {
            "colorbar": {
             "outlinewidth": 0,
             "ticks": ""
            },
            "colorscale": [
             [
              0,
              "#0d0887"
             ],
             [
              0.1111111111111111,
              "#46039f"
             ],
             [
              0.2222222222222222,
              "#7201a8"
             ],
             [
              0.3333333333333333,
              "#9c179e"
             ],
             [
              0.4444444444444444,
              "#bd3786"
             ],
             [
              0.5555555555555556,
              "#d8576b"
             ],
             [
              0.6666666666666666,
              "#ed7953"
             ],
             [
              0.7777777777777778,
              "#fb9f3a"
             ],
             [
              0.8888888888888888,
              "#fdca26"
             ],
             [
              1,
              "#f0f921"
             ]
            ],
            "type": "histogram2dcontour"
           }
          ],
          "mesh3d": [
           {
            "colorbar": {
             "outlinewidth": 0,
             "ticks": ""
            },
            "type": "mesh3d"
           }
          ],
          "parcoords": [
           {
            "line": {
             "colorbar": {
              "outlinewidth": 0,
              "ticks": ""
             }
            },
            "type": "parcoords"
           }
          ],
          "pie": [
           {
            "automargin": true,
            "type": "pie"
           }
          ],
          "scatter": [
           {
            "fillpattern": {
             "fillmode": "overlay",
             "size": 10,
             "solidity": 0.2
            },
            "type": "scatter"
           }
          ],
          "scatter3d": [
           {
            "line": {
             "colorbar": {
              "outlinewidth": 0,
              "ticks": ""
             }
            },
            "marker": {
             "colorbar": {
              "outlinewidth": 0,
              "ticks": ""
             }
            },
            "type": "scatter3d"
           }
          ],
          "scattercarpet": [
           {
            "marker": {
             "colorbar": {
              "outlinewidth": 0,
              "ticks": ""
             }
            },
            "type": "scattercarpet"
           }
          ],
          "scattergeo": [
           {
            "marker": {
             "colorbar": {
              "outlinewidth": 0,
              "ticks": ""
             }
            },
            "type": "scattergeo"
           }
          ],
          "scattergl": [
           {
            "marker": {
             "colorbar": {
              "outlinewidth": 0,
              "ticks": ""
             }
            },
            "type": "scattergl"
           }
          ],
          "scattermapbox": [
           {
            "marker": {
             "colorbar": {
              "outlinewidth": 0,
              "ticks": ""
             }
            },
            "type": "scattermapbox"
           }
          ],
          "scatterpolar": [
           {
            "marker": {
             "colorbar": {
              "outlinewidth": 0,
              "ticks": ""
             }
            },
            "type": "scatterpolar"
           }
          ],
          "scatterpolargl": [
           {
            "marker": {
             "colorbar": {
              "outlinewidth": 0,
              "ticks": ""
             }
            },
            "type": "scatterpolargl"
           }
          ],
          "scatterternary": [
           {
            "marker": {
             "colorbar": {
              "outlinewidth": 0,
              "ticks": ""
             }
            },
            "type": "scatterternary"
           }
          ],
          "surface": [
           {
            "colorbar": {
             "outlinewidth": 0,
             "ticks": ""
            },
            "colorscale": [
             [
              0,
              "#0d0887"
             ],
             [
              0.1111111111111111,
              "#46039f"
             ],
             [
              0.2222222222222222,
              "#7201a8"
             ],
             [
              0.3333333333333333,
              "#9c179e"
             ],
             [
              0.4444444444444444,
              "#bd3786"
             ],
             [
              0.5555555555555556,
              "#d8576b"
             ],
             [
              0.6666666666666666,
              "#ed7953"
             ],
             [
              0.7777777777777778,
              "#fb9f3a"
             ],
             [
              0.8888888888888888,
              "#fdca26"
             ],
             [
              1,
              "#f0f921"
             ]
            ],
            "type": "surface"
           }
          ],
          "table": [
           {
            "cells": {
             "fill": {
              "color": "#EBF0F8"
             },
             "line": {
              "color": "white"
             }
            },
            "header": {
             "fill": {
              "color": "#C8D4E3"
             },
             "line": {
              "color": "white"
             }
            },
            "type": "table"
           }
          ]
         },
         "layout": {
          "annotationdefaults": {
           "arrowcolor": "#2a3f5f",
           "arrowhead": 0,
           "arrowwidth": 1
          },
          "autotypenumbers": "strict",
          "coloraxis": {
           "colorbar": {
            "outlinewidth": 0,
            "ticks": ""
           }
          },
          "colorscale": {
           "diverging": [
            [
             0,
             "#8e0152"
            ],
            [
             0.1,
             "#c51b7d"
            ],
            [
             0.2,
             "#de77ae"
            ],
            [
             0.3,
             "#f1b6da"
            ],
            [
             0.4,
             "#fde0ef"
            ],
            [
             0.5,
             "#f7f7f7"
            ],
            [
             0.6,
             "#e6f5d0"
            ],
            [
             0.7,
             "#b8e186"
            ],
            [
             0.8,
             "#7fbc41"
            ],
            [
             0.9,
             "#4d9221"
            ],
            [
             1,
             "#276419"
            ]
           ],
           "sequential": [
            [
             0,
             "#0d0887"
            ],
            [
             0.1111111111111111,
             "#46039f"
            ],
            [
             0.2222222222222222,
             "#7201a8"
            ],
            [
             0.3333333333333333,
             "#9c179e"
            ],
            [
             0.4444444444444444,
             "#bd3786"
            ],
            [
             0.5555555555555556,
             "#d8576b"
            ],
            [
             0.6666666666666666,
             "#ed7953"
            ],
            [
             0.7777777777777778,
             "#fb9f3a"
            ],
            [
             0.8888888888888888,
             "#fdca26"
            ],
            [
             1,
             "#f0f921"
            ]
           ],
           "sequentialminus": [
            [
             0,
             "#0d0887"
            ],
            [
             0.1111111111111111,
             "#46039f"
            ],
            [
             0.2222222222222222,
             "#7201a8"
            ],
            [
             0.3333333333333333,
             "#9c179e"
            ],
            [
             0.4444444444444444,
             "#bd3786"
            ],
            [
             0.5555555555555556,
             "#d8576b"
            ],
            [
             0.6666666666666666,
             "#ed7953"
            ],
            [
             0.7777777777777778,
             "#fb9f3a"
            ],
            [
             0.8888888888888888,
             "#fdca26"
            ],
            [
             1,
             "#f0f921"
            ]
           ]
          },
          "colorway": [
           "#636efa",
           "#EF553B",
           "#00cc96",
           "#ab63fa",
           "#FFA15A",
           "#19d3f3",
           "#FF6692",
           "#B6E880",
           "#FF97FF",
           "#FECB52"
          ],
          "font": {
           "color": "#2a3f5f"
          },
          "geo": {
           "bgcolor": "white",
           "lakecolor": "white",
           "landcolor": "#E5ECF6",
           "showlakes": true,
           "showland": true,
           "subunitcolor": "white"
          },
          "hoverlabel": {
           "align": "left"
          },
          "hovermode": "closest",
          "mapbox": {
           "style": "light"
          },
          "paper_bgcolor": "white",
          "plot_bgcolor": "#E5ECF6",
          "polar": {
           "angularaxis": {
            "gridcolor": "white",
            "linecolor": "white",
            "ticks": ""
           },
           "bgcolor": "#E5ECF6",
           "radialaxis": {
            "gridcolor": "white",
            "linecolor": "white",
            "ticks": ""
           }
          },
          "scene": {
           "xaxis": {
            "backgroundcolor": "#E5ECF6",
            "gridcolor": "white",
            "gridwidth": 2,
            "linecolor": "white",
            "showbackground": true,
            "ticks": "",
            "zerolinecolor": "white"
           },
           "yaxis": {
            "backgroundcolor": "#E5ECF6",
            "gridcolor": "white",
            "gridwidth": 2,
            "linecolor": "white",
            "showbackground": true,
            "ticks": "",
            "zerolinecolor": "white"
           },
           "zaxis": {
            "backgroundcolor": "#E5ECF6",
            "gridcolor": "white",
            "gridwidth": 2,
            "linecolor": "white",
            "showbackground": true,
            "ticks": "",
            "zerolinecolor": "white"
           }
          },
          "shapedefaults": {
           "line": {
            "color": "#2a3f5f"
           }
          },
          "ternary": {
           "aaxis": {
            "gridcolor": "white",
            "linecolor": "white",
            "ticks": ""
           },
           "baxis": {
            "gridcolor": "white",
            "linecolor": "white",
            "ticks": ""
           },
           "bgcolor": "#E5ECF6",
           "caxis": {
            "gridcolor": "white",
            "linecolor": "white",
            "ticks": ""
           }
          },
          "title": {
           "x": 0.05
          },
          "xaxis": {
           "automargin": true,
           "gridcolor": "white",
           "linecolor": "white",
           "ticks": "",
           "title": {
            "standoff": 15
           },
           "zerolinecolor": "white",
           "zerolinewidth": 2
          },
          "yaxis": {
           "automargin": true,
           "gridcolor": "white",
           "linecolor": "white",
           "ticks": "",
           "title": {
            "standoff": 15
           },
           "zerolinecolor": "white",
           "zerolinewidth": 2
          }
         }
        },
        "title": {
         "text": "<b>Resíduos Padronizados Ajustados</b>"
        },
        "width": 600
       }
      }
     },
     "metadata": {},
     "output_type": "display_data"
    }
   ],
   "source": [
    "# Plotando o gráfico\n",
    "\n",
    "fig = go.Figure()\n",
    "\n",
    "maxz = np.max(tab_cont.standardized_resids)+0.1\n",
    "minz = np.min(tab_cont.standardized_resids)-0.1\n",
    "\n",
    "colorscale = ['purple' if i>1.96 else '#FAF9F6' for i in np.arange(minz,maxz,0.01)]\n",
    "\n",
    "fig.add_trace(\n",
    "    go.Heatmap(\n",
    "        x = tab_cont.standardized_resids.columns,\n",
    "        y = tab_cont.standardized_resids.index,\n",
    "        z = np.array(tab_cont.standardized_resids),\n",
    "        text=tab_cont.standardized_resids.values,\n",
    "        texttemplate='%{text:.2f}',\n",
    "        showscale=False,\n",
    "        colorscale=colorscale))\n",
    "\n",
    "fig.update_layout(\n",
    "    title='<b>Resíduos Padronizados Ajustados</b>',\n",
    "    height = 600,\n",
    "    width = 600)\n",
    "\n",
    "fig.show()"
   ]
  },
  {
   "cell_type": "markdown",
   "metadata": {},
   "source": [
    "**Conclusão**\n",
    "- Na Anacor são gerados 'm' autovalores: m = mín(I-1,J-1)\n",
    "- Como a variável 'group' tem 2 categorias, não há mapa bidimensional\n",
    "- Assim, neste caso, a análise será encerrada nos resíduos padronizados ajustados\n",
    "- Existindo outras variáveis, poderia ser realizada uma ACM"
   ]
  }
 ],
 "metadata": {
  "kernelspec": {
   "display_name": ".venv",
   "language": "python",
   "name": "python3"
  },
  "language_info": {
   "codemirror_mode": {
    "name": "ipython",
    "version": 3
   },
   "file_extension": ".py",
   "mimetype": "text/x-python",
   "name": "python",
   "nbconvert_exporter": "python",
   "pygments_lexer": "ipython3",
   "version": "3.12.3"
  }
 },
 "nbformat": 4,
 "nbformat_minor": 2
}
